{
 "cells": [
  {
   "cell_type": "code",
   "execution_count": 2,
   "id": "e1e8d30e-532d-4aa5-8fe3-6721d131195d",
   "metadata": {},
   "outputs": [
    {
     "name": "stdout",
     "output_type": "stream",
     "text": [
      "Accuracy: 1.0\n"
     ]
    }
   ],
   "source": [
    "from sklearn.pipeline import Pipeline\n",
    "from sklearn.preprocessing import StandardScaler\n",
    "from sklearn.linear_model import LogisticRegression\n",
    "from sklearn.model_selection import train_test_split\n",
    "from sklearn.datasets import load_iris\n",
    "\n",
    "# بارگذاری داده‌ها\n",
    "data = load_iris()\n",
    "X = data.data\n",
    "y = data.target\n",
    "\n",
    "# تقسیم داده‌ها به مجموعه آموزش و تست\n",
    "X_train, X_test, y_train, y_test = train_test_split(X, y, test_size=0.3, random_state=42)\n",
    "\n",
    "# تعریف مراحل در Pipeline\n",
    "pipeline = Pipeline([\n",
    "    ('scale', StandardScaler()),           # مرحله مقیاس‌بندی داده‌ها\n",
    "    ('classiier', LogisticRegression())    # مرحله مدل‌سازی\n",
    "])\n",
    "\n",
    "# آموزش Pipeline با داده‌های آموزش\n",
    "pipeline.fit(X_train, y_train)\n",
    "\n",
    "# ارزیابی مدل\n",
    "accuracy = pipeline.score(X_test, y_test)\n",
    "print(\"Accuracy:\", accuracy)\n"
   ]
  },
  {
   "cell_type": "code",
   "execution_count": 8,
   "id": "42076ff9-de8d-4b3c-81b9-678595a8be55",
   "metadata": {},
   "outputs": [
    {
     "name": "stdout",
     "output_type": "stream",
     "text": [
      "Train_X: [ 2  3  4  5  6  7  8  9 10] Test_X: [1]\n",
      "Train_y: [12 13 14 15 16 17 18 19 20] Test_y: [11]\n",
      "Train_X: [ 1  3  4  5  6  7  8  9 10] Test_X: [2]\n",
      "Train_y: [11 13 14 15 16 17 18 19 20] Test_y: [12]\n",
      "Train_X: [ 1  2  4  5  6  7  8  9 10] Test_X: [3]\n",
      "Train_y: [11 12 14 15 16 17 18 19 20] Test_y: [13]\n",
      "Train_X: [ 1  2  3  5  6  7  8  9 10] Test_X: [4]\n",
      "Train_y: [11 12 13 15 16 17 18 19 20] Test_y: [14]\n",
      "Train_X: [ 1  2  3  4  6  7  8  9 10] Test_X: [5]\n",
      "Train_y: [11 12 13 14 16 17 18 19 20] Test_y: [15]\n",
      "Train_X: [ 1  2  3  4  5  7  8  9 10] Test_X: [6]\n",
      "Train_y: [11 12 13 14 15 17 18 19 20] Test_y: [16]\n",
      "Train_X: [ 1  2  3  4  5  6  8  9 10] Test_X: [7]\n",
      "Train_y: [11 12 13 14 15 16 18 19 20] Test_y: [17]\n",
      "Train_X: [ 1  2  3  4  5  6  7  9 10] Test_X: [8]\n",
      "Train_y: [11 12 13 14 15 16 17 19 20] Test_y: [18]\n",
      "Train_X: [ 1  2  3  4  5  6  7  8 10] Test_X: [9]\n",
      "Train_y: [11 12 13 14 15 16 17 18 20] Test_y: [19]\n",
      "Train_X: [1 2 3 4 5 6 7 8 9] Test_X: [10]\n",
      "Train_y: [11 12 13 14 15 16 17 18 19] Test_y: [20]\n"
     ]
    }
   ],
   "source": [
    "import numpy as np\n",
    "from sklearn.model_selection import LeaveOneOut\n",
    "\n",
    "# Sample data\n",
    "X = np.array([1, 2, 3, 4, 5, 6, 7, 8, 9, 10])\n",
    "y = np.array([11, 12, 13, 14, 15, 16, 17, 18, 19, 20])\n",
    "\n",
    "# Initialize KFold with 5 splits\n",
    "l = LeaveOneOut()\n",
    "\n",
    "# Perform K-Fold cross-validation\n",
    "for train_index, test_index in l.split(X,y):\n",
    "    train_X, test_X = X[train_index], X[test_index]\n",
    "    train_y, test_y = y[train_index], y[test_index]\n",
    "    \n",
    "    print(\"Train_X:\", train_X, \"Test_X:\", test_X)\n",
    "    print(\"Train_y:\", train_y, \"Test_y:\", test_y)\n"
   ]
  },
  {
   "cell_type": "code",
   "execution_count": 23,
   "id": "f7a6f41c-2fd3-42c7-803c-a5ac00e96e3e",
   "metadata": {},
   "outputs": [
    {
     "name": "stderr",
     "output_type": "stream",
     "text": [
      "100%|████████████████████████████████████████████████████████████████████████████████| 100/100 [00:10<00:00,  9.20it/s]\n"
     ]
    }
   ],
   "source": [
    "from tqdm import tqdm\n",
    "import time\n",
    "data = range(100)\n",
    "for item in tqdm(data):\n",
    "    # پردازش هر آیتم\n",
    "    time.sleep(0.1)\n"
   ]
  },
  {
   "cell_type": "code",
   "execution_count": null,
   "id": "84f580b1-23bb-4d94-877d-6b6d50718d54",
   "metadata": {},
   "outputs": [],
   "source": []
  },
  {
   "cell_type": "code",
   "execution_count": null,
   "id": "6a6639a9-db1d-4e15-a952-757bcf2d1b8e",
   "metadata": {},
   "outputs": [],
   "source": []
  }
 ],
 "metadata": {
  "kernelspec": {
   "display_name": "Python 3 (ipykernel)",
   "language": "python",
   "name": "python3"
  },
  "language_info": {
   "codemirror_mode": {
    "name": "ipython",
    "version": 3
   },
   "file_extension": ".py",
   "mimetype": "text/x-python",
   "name": "python",
   "nbconvert_exporter": "python",
   "pygments_lexer": "ipython3",
   "version": "3.10.6"
  }
 },
 "nbformat": 4,
 "nbformat_minor": 5
}
