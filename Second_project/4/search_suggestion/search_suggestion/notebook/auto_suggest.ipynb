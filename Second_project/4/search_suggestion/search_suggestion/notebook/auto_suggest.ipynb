{
 "cells": [
  {
   "attachments": {},
   "cell_type": "markdown",
   "id": "d333515a",
   "metadata": {},
   "source": [
    "<h1 align=center style=\"line-height:200%;font-family:vazir;color:#0099cc\">\n",
    "<font face=\"vazir\" color=\"#0099cc\">\n",
    "پیشنهاد خودکار\n",
    "</font>\n",
    "</h1>"
   ]
  },
  {
   "attachments": {},
   "cell_type": "markdown",
   "id": "6ed20bff",
   "metadata": {},
   "source": [
    "<h2 align=right style=\"line-height:200%;font-family:vazir;color:#0099cc\">\n",
    "<font face=\"vazir\" color=\"#0099cc\">\n",
    "مقدمه و صورت مسئله\n",
    "</font>\n",
    "</h2>\n",
    "\n",
    "<p dir=rtl style=\"direction: rtl; text-align: justify; line-height:200%; font-family:vazir; font-size:medium\">\n",
    "<font face=\"vazir\" size=3>\n",
    "    به یک تمرین جالب و کاربردی از پردازش زبان طبیعی (NLP) خوش آمدید!  در این تمرین به سراغ یک مسئله‌ی کاملاً واقعی و چالش‌برانگیز صنعت خواهیم رفت.\n",
    "    مشاهده کرده‌اید که در وب‌سایت‌ها هنگامی‌که در حال تایپ داخل یک فیلد متنی هستید معمولاً لیستی از متن‌های مشابه به شما پیشنهاد می‌شود. نمونه‌ای از این قابلیت که در وب سایت <a href=\"https://mrbilit.com/bus-ticket\" target=\"_blank\">مستربلیط</a> به کار گرفته شده را در تصویر زیر مشاهده می‌کنید. \n",
    "</font>\n",
    "</p>\n",
    "\n",
    "\n",
    "<center>\n",
    "<img src=\"screenshot.png\">\n",
    "</center>\n",
    "\n",
    "<p dir=rtl style=\"direction: rtl; text-align: justify; line-height:200%; font-family:vazir; font-size:medium\">\n",
    "<font face=\"vazir\" size=3>\n",
    "    با این حال معمولاً چنین لیست‌های پیشنهادی‌ای بسیار ساده هستند و تنها عباراتی را که با رشته‌ی تایپ‌شده‌ی کاربر شروع می‌شوند پیشنهاد می‌دهند تا کاربر نیازی به تکمیل تایپ خود نداشته باشد و زودتر به نتیجه برسد. اما در این تمرین قصد داریم پیشنهاددهنده‌ای بسازیم که هوشمندتر و منعطف‌تر عمل کند. به‌عنوان مثال شاید کاربر عبارت «بابل» را تایپ کرده اما در ابتدا غلط املایی داشته و منظورش «زابل» بوده باشد.  یا شاید همان‌طور که حتماً برای شما هم پیش آمده و روی اعصاب‌تان رفته یادش رفته باشد که کیبورد خود را روی زبان فارسی تنظیم کند و عبارتی مثل «fhfg» را تایپ کرده باشد. همچنین چرا اسم‌های انگلیسی شهرها را هم در نظر نگیریم و وقتی شخص مثلاً «Zahedan» را تایپ کرده باشد متوجه نشویم که منظورش «<span style=\"color: red\"}>زاهدان</span>» بوده است؟\n",
    "    با این حال، این‌ها تنها تعدادی از الگوهای ممکن هستند که منجر به بهبود پیشنهادهای سیستم خواهند شد. ما می‌توانیم به کمک داده‌های جمع‌آوری‌شده از آن‌چه که کاربران مرحله به مرحله تایپ کرده‌اند و آن‌چه که در نهایت انتخاب کرده‌اند مدلی طراحی کنیم که با توجه به ورودی کاربر، لیستی از محتمل‌ترین انتخاب‌ها را به وی پیشنهاد دهد.\n",
    "</font>\n",
    "</p>"
   ]
  },
  {
   "cell_type": "markdown",
   "id": "c5af1784",
   "metadata": {},
   "source": [
    "<h2 align=right style=\"line-height:200%;font-family:vazir;color:#0099cc\">\n",
    "<font face=\"vazir\" color=\"#0099cc\">\n",
    "وارد کردن کتابخانه‌های مورد نیاز\n",
    "</font>\n",
    "</h2>\n",
    "\n",
    "<p dir=rtl style=\"direction: rtl; text-align: justify; line-height:200%; font-family:vazir; font-size:medium\">\n",
    "<font face=\"vazir\" size=3>\n",
    "    ابتدا کتابخانه‌های مورد نیازتان را وارد کنید.\n",
    "</font>\n",
    "</p>"
   ]
  },
  {
   "cell_type": "code",
   "execution_count": 51,
   "id": "99450f9e",
   "metadata": {},
   "outputs": [],
   "source": [
    "import numpy as np\n",
    "import pandas as pd"
   ]
  },
  {
   "attachments": {},
   "cell_type": "markdown",
   "id": "72faaed8",
   "metadata": {},
   "source": [
    "<h2 align=right style=\"line-height:200%;font-family:vazir;color:#0099cc\">\n",
    "<font face=\"vazir\" color=\"#0099cc\">\n",
    "معرفی مجموعه داده\n",
    "</font>\n",
    "</h2>\n",
    "\n",
    "<p dir=rtl style=\"direction: rtl; text-align: justify; line-height:200%; font-family:vazir; font-size:medium\">\n",
    "<font face=\"vazir\" size=3>\n",
    "    هر نمونه‌ی آموزشی از این مجموعه‌داده که در فایل <code dir=ltr>mrbilit_search.json</code> ذخیره شده مربوط به یک مرتبه جست‌و‌جوی کاربر در فیلد متنی است و با ویژگی‌هایی که در جدول زیر شرح داده شده همراه است.\n",
    "</font>\n",
    "</p>\n",
    "<center>\n",
    "<div dir=rtl style=\"direction: rtl;line-height:200%;font-family:vazir;font-size:medium\">\n",
    "<font face=\"vazir\" size=3>\n",
    "    \n",
    "|ستون|توضیحات|\n",
    "|:------:|:---:|\n",
    "|<code>ServiceType</code>|نوع سرویس|\n",
    "|<code>TypedStrings</code>|لیستی از رشته‌ی تایپ‌شده‌ی کاربر به ترتیب زمانی|\n",
    "|<code>AcceptString</code>|رشته‌ای که در نهایت انتخاب شده است|\n",
    "\n",
    "</font>\n",
    "</div>\n",
    "</center>\n",
    "\n",
    "<p dir=rtl style=\"direction: rtl; text-align: justify; line-height:200%; font-family:vazir; font-size:medium\">\n",
    "<font face=\"vazir\" size=3 color=red>\n",
    "    <b>نکته:</b>\n",
    "</font>\n",
    "<font face=\"vazir\" size=3>\n",
    "    در این تمرین فقط جست‌و‌جوهای مرتبط با سرویس‌های حمل‌و‌نقل زمینی را در نظر خواهیم گرفت. بنابراین با توجه به ستون <code>ServiceType</code> تنها نمونه‌های سرویس <b>تاکسی</b> و <b>اتوبوس</b> را نگه دارید.\n",
    "</font>\n",
    "</p>\n",
    "\n",
    "<p dir=rtl style=\"direction: rtl; text-align: justify; line-height:200%; font-family:vazir; font-size:medium\">\n",
    "<font face=\"vazir\" size=3>\n",
    "    مجموعه‌ی آزمون نیز در فایل <code dir=ltr>test_data.json</code> ذخیره شده و شامل تنها یک ستون به شرح زیر است. به ازای هرکدام از نمونه‌های آزمون باید لیستی از شهرها را پیشنهاد دهید. \n",
    "</font>\n",
    "</p>\n",
    "<center>\n",
    "<div dir=rtl style=\"direction: rtl;line-height:200%;font-family:vazir;font-size:medium\">\n",
    "<font face=\"vazir\" size=3>\n",
    "    \n",
    "|ستون|توضیحات|\n",
    "|:------:|:---:|\n",
    "|<code>Typed</code>|یک رشته‌ی تایپ‌شده توسط کاربر|\n",
    "\n",
    "</font>\n",
    "</div>\n",
    "</center>\n",
    "\n",
    "<p dir=rtl style=\"direction: rtl; text-align: justify; line-height:200%; font-family:vazir; font-size:medium\">\n",
    "<font face=\"vazir\" size=3>\n",
    "    جهت راحتی شما در دسترسی به نام انگلیسی شهرها مجموعه‌داده‌ای از لیست شهرهای ایران همراه با برخی اطلاعات مهم‌شان جمع‌آوری شده و در فایلی با نام <code>iran_cities.csv</code> قرار گرفته است. این مجموعه‌داده‌ هرچند ناکامل است اما اکثر شهرهای مورد جست‌و‌جو را پوشش می‌دهد. \n",
    "</font>\n",
    "</p>\n",
    "\n",
    "<p dir=rtl style=\"direction: rtl; text-align: justify; line-height:200%; font-family:vazir; font-size:medium\">\n",
    "<font face=\"vazir\" size=3>\n",
    "    علاوه بر این جهت تشخیص اشتباه تایپی به دلیل فعال‌بودن زبان انگلیسی صفحه‌کلید، فایلی با نام <code>typo_char.csv</code> در اختیارتان قرار گرفته که شامل حروف انگلیسی و حروف فارسی متناظر با آن در یک لایه‌ی رایج صفحه‌کلید است.\n",
    "</font>\n",
    "</p>"
   ]
  },
  {
   "attachments": {},
   "cell_type": "markdown",
   "id": "e99bbe9b",
   "metadata": {},
   "source": [
    "<h2 align=right style=\"line-height:200%;font-family:vazir;color:#0099cc\">\n",
    "<font face=\"vazir\" color=\"#0099cc\">\n",
    "خواندن مجموعه داده\n",
    "</font>\n",
    "</h2>\n",
    "\n",
    "<p dir=rtl style=\"direction: rtl; text-align: justify; line-height:200%; font-family:vazir; font-size:medium\">\n",
    "<font face=\"vazir\" size=3>\n",
    "    در ابتدا می‌توانید فایل‌های مجموعه‌داده‌ها را بخوانید. لازم به ذکر است برای خواندن فایل‌های <code>json</code> به شکل یک دیتافریم <code>pandas</code> می‌توانید از تابع <code dir=ltr>read_json()</code> استفاده کنید.\n",
    "</font>\n",
    "</p>"
   ]
  },
  {
   "cell_type": "code",
   "execution_count": null,
   "id": "7dcb9e87",
   "metadata": {},
   "outputs": [],
   "source": [
    "data = None # To-Do\n",
    "data.head()"
   ]
  },
  {
   "attachments": {},
   "cell_type": "markdown",
   "id": "23daec54",
   "metadata": {},
   "source": [
    "<h2 align=right style=\"line-height:200%;font-family:vazir;color:#0099cc\">\n",
    "<font face=\"vazir\" color=\"#0099cc\">\n",
    "پیش‌پردازش و مهندسی ویژگی\n",
    "</font>\n",
    "</h2>\n",
    "\n",
    "<p dir=rtl style=\"direction: rtl; text-align: justify; line-height:200%; font-family:vazir; font-size:medium\">\n",
    "<font face=\"vazir\" size=3>\n",
    "    در این تمرین می‌توانید هر بلایی که می‌خواهید به سر داده‌ها بیاورید 😁 البته ممکن است با توجه به روشی که جهت حل مسئله انتخاب می‌کنید پیش‌پردازش‌های مورد نیاز شما نیز تفاوت کند.\n",
    "</font>\n",
    "</p>"
   ]
  },
  {
   "cell_type": "code",
   "execution_count": null,
   "id": "83fe6d2b",
   "metadata": {},
   "outputs": [],
   "source": [
    "# To-Do"
   ]
  },
  {
   "attachments": {},
   "cell_type": "markdown",
   "id": "f99f2c94",
   "metadata": {},
   "source": [
    "<h2 align=right style=\"line-height:200%;font-family:vazir;color:#0099cc\">\n",
    "<font face=\"vazir\" color=\"#0099cc\">\n",
    "مدل‌سازی\n",
    "</font>\n",
    "</h2>\n",
    "\n",
    "<p dir=rtl style=\"direction: rtl; text-align: justify; line-height:200%; font-family:vazir; font-size:medium\">\n",
    "<font face=\"vazir\" size=3>\n",
    "    برای حل این مسئله می‌توانید از هر روشی که به ذهن‌تان می‌رسد کمک بگیرید. توجه داشته باشید که در این تمرین با یک مسئله‌ی واقعی و صنعتی سر و کار داریم، در نتیجه ممکن است برخلاف تمرین‌های رایج کالج یک راه‌حل استاندارد یا به اصطلاح سرراست برای آن وجود نداشته باشد. حتی ممکن است الگوریتم‌های یادگیری ماشین برای این مسئله به اندازه‌ی راه‌حل‌های قاعده‌ای (rule-based) یا احتمالاتی مفید واقع نشود. همچنین می‌توانید چندین روش مختلف را با همدیگر ترکیب کنید. خلاصه که ریش (🧔) و قیچی (✂️) دست شماست! هر ایده و خلاقیتی که به ذهن‌تان می‌رسد را پیاده‌سازی و آزمایش کنید.\n",
    "</font>\n",
    "</p>\n",
    "\n",
    "<p dir=rtl style=\"direction: rtl; text-align: justify; line-height:200%; font-family:vazir; font-size:medium\">\n",
    "<font face=\"vazir\" size=3>\n",
    "    چندین مثال از نمونه‌های آزمون و پیشنهادهای معقول برای آن‌ها در زیر آورده شده تا به ایده‌پردازی شما کمک کند. توجه داشته باشید در صورتی‌که پیشنهاد چندان مشابهی وجود نداشته باشد می‌توانیم از پرتکرارترین یا محتمل‌ترین برچسب‌ها استفاده می‌کنیم. یعنی در مثال زیر مشاهده می‌کنید که هرجا انتخاب بهتری نداشته‌ایم ابتدا «تهران» و سپس باقی شهرها را قرار داده‌ایم.\n",
    "</font>\n",
    "</p>\n",
    "\n",
    "<center>\n",
    "<div dir=rtl style=\"direction: rtl;line-height:200%;font-family:vazir;font-size:medium\">\n",
    "<font face=\"vazir\" size=3>\n",
    "    \n",
    "|Suggestion4|Suggestion3|Suggestion2|Suggestion1|Suggestion0|متن تایپ‌شده|\n",
    "|:------:|:---:|:---:|:---:|:---:|:---:|\n",
    "| شیراز | اصفهان | کلاله | تهران - پایانه جنوب | تهران | تهد |\n",
    "| قم | قایمیه | قاینات | قائن | قائم شهر | قا |\n",
    "| اصفهان | تهران | خوی | بویین ومیاندشت | بویراحمد | بوی |\n",
    "| شیراز | اصفهان | تهران | یزد - کمربندی | یزد | dcn |\n",
    "| شیراز | اصفهان | تهران | ماهشهر | اهواز | بندر ماهش |\n",
    "| تنکابن | تهران - پایانه غرب | تهران - پایانه جنوب | تبریز | تهران | ت |\n",
    "    \n",
    "</font>\n",
    "</div>\n",
    "</center>"
   ]
  },
  {
   "cell_type": "code",
   "execution_count": null,
   "id": "bbff0e79",
   "metadata": {},
   "outputs": [],
   "source": [
    "# To-Do"
   ]
  },
  {
   "attachments": {},
   "cell_type": "markdown",
   "id": "33da5d2a",
   "metadata": {},
   "source": [
    "<h2 align=right style=\"line-height:200%;font-family:vazir;color:#0099cc\">\n",
    "<font face=\"vazir\" color=\"#0099cc\">\n",
    "معیار ارزیابی\n",
    "</font>\n",
    "</h2>\n",
    "\n",
    "<p dir=rtl style=\"direction: rtl; text-align: justify; line-height:200%; font-family:vazir; font-size:medium\">\n",
    "<font face=\"vazir\" size=3>\n",
    "    از آنجا که در این مسئله پاسخ حقیقی‌ای وجود ندارد خروجی‌های مدل شما با پیشنهادهای خروجی راه‌حل ما مقایسه می‌شود تا منطقی بودن پاسخ شما تا حد مناسبی سنجیده شود. برای مقایسه‌ی پیشنهادها به ازای هر نمونه‌ی آزمون از معیار شباهتی به نام Rank-biased Overlap یا به اختصار RBO استفاده می‌شود. به ازای هر نمونه مقدار RBO محاسبه شده و در نهایت از تمام مقادیر تولید شده میانگین گرفته خواهد شد.\n",
    "</font>\n",
    "</p>\n",
    "\n",
    "<p dir=rtl style=\"direction: rtl; text-align: justify; line-height:200%; font-family:vazir; font-size:medium\">\n",
    "<font face=\"vazir\" size=3>\n",
    "    برای محاسبه‌ی مقدار RBO بین دو لیست از آیتم‌ها از تابع <code>RankingSimilarity</code> موجود در کتابخانه‌ی <a href=\"https://github.com/changyaochen/rbo\">rbo</a> استفاده خواهد شد.\n",
    "</font>\n",
    "</p>"
   ]
  },
  {
   "cell_type": "code",
   "execution_count": 52,
   "id": "e0aea8bd",
   "metadata": {},
   "outputs": [
    {
     "name": "stdout",
     "output_type": "stream",
     "text": [
      "0.5555555555555555\n"
     ]
    }
   ],
   "source": [
    "from rbo import RankingSimilarity\n",
    "act = ['A', 'B', 'C']\n",
    "pred = ['B', 'A', 'D']\n",
    "rbo = RankingSimilarity(act, pred).rbo()\n",
    "print(rbo)"
   ]
  },
  {
   "attachments": {},
   "cell_type": "markdown",
   "id": "ddad09cf",
   "metadata": {},
   "source": [
    "<p dir=rtl style=\"direction: rtl; text-align: justify; line-height:200%; font-family:vazir; font-size:medium\">\n",
    "<font color=\"red\"><b color='red'>توجه:</b></font>\n",
    "<font face=\"vazir\" size=3>\n",
    " جهت کسب امتیاز کامل نیاز است تا پاسخ شما حداقل امتیاز <code>30</code> را با توجه به معیار معرفی‌شده کسب نماید.\n",
    "</font>\n",
    "</p>"
   ]
  },
  {
   "attachments": {},
   "cell_type": "markdown",
   "id": "4e9984de",
   "metadata": {},
   "source": [
    "<h2 align=right style=\"line-height:200%;font-family:vazir;color:#0099cc\">\n",
    "<font face=\"vazir\" color=\"#0099cc\">\n",
    " پیش‌بینی برای داده تست و خروجی\n",
    "</font>\n",
    "</h2>\n",
    "\n",
    "<p dir=rtl style=\"direction: rtl; text-align: justify; line-height:200%; font-family:vazir; font-size:medium\">\n",
    "<font face=\"vazir\" size=3>\n",
    "    به ازای هر نمونه‌ی آزمون نیاز است ۵ شهر (مقادیر برچسب یعنی ستون <code>AcceptString</code>) را به‌ترتیب اولویت پیش‌بینی کرده و همانند جدول و کد نمونه‌ی زیر در دیتافریمی به نام <code>submission</code> ذخیره کنید. توجه داشته باشید که در میان ۵ پیش‌بینی خود <span style=\"color:red\">نباید</span> عنصر تکراری‌ای وجود داشته باشد.\n",
    "</font>\n",
    "</p>"
   ]
  },
  {
   "attachments": {},
   "cell_type": "markdown",
   "id": "c2f6d82d",
   "metadata": {},
   "source": [
    "<center>\n",
    "<div dir=rtl style=\"direction: rtl;line-height:200%;font-family:vazir;font-size:medium\">\n",
    "<font face=\"vazir\" size=3>\n",
    "    \n",
    "|ستون|توضیحات|\n",
    "|:------:|:---:|\n",
    "|<code>Suggestion0</code>|پیش‌بینی نخست (بیشترین اولویت)|\n",
    "|<code>Suggestion1</code>|پیش‌بینی دوم|\n",
    "|<code>Suggestion2</code>|پیش‌بینی سوم|\n",
    "|<code>Suggestion3</code>|پیش‌بینی چهارم|\n",
    "|<code>Suggestion4</code>|پیش‌بینی پنجم (کمترین اولویت)|\n",
    "    \n",
    "</font>\n",
    "</div>\n",
    "</center>"
   ]
  },
  {
   "cell_type": "code",
   "execution_count": 53,
   "id": "3d4a0844",
   "metadata": {},
   "outputs": [
    {
     "data": {
      "text/html": [
       "<div>\n",
       "<style scoped>\n",
       "    .dataframe tbody tr th:only-of-type {\n",
       "        vertical-align: middle;\n",
       "    }\n",
       "\n",
       "    .dataframe tbody tr th {\n",
       "        vertical-align: top;\n",
       "    }\n",
       "\n",
       "    .dataframe thead th {\n",
       "        text-align: right;\n",
       "    }\n",
       "</style>\n",
       "<table border=\"1\" class=\"dataframe\">\n",
       "  <thead>\n",
       "    <tr style=\"text-align: right;\">\n",
       "      <th></th>\n",
       "      <th>Suggestion0</th>\n",
       "      <th>Suggestion1</th>\n",
       "      <th>Suggestion2</th>\n",
       "      <th>Suggestion3</th>\n",
       "      <th>Suggestion4</th>\n",
       "    </tr>\n",
       "  </thead>\n",
       "  <tbody>\n",
       "    <tr>\n",
       "      <th>0</th>\n",
       "      <td>کرج</td>\n",
       "      <td>تهران</td>\n",
       "      <td>اصفهان</td>\n",
       "      <td>شیراز</td>\n",
       "      <td>مشهد</td>\n",
       "    </tr>\n",
       "  </tbody>\n",
       "</table>\n",
       "</div>"
      ],
      "text/plain": [
       "  Suggestion0 Suggestion1 Suggestion2 Suggestion3 Suggestion4\n",
       "0         کرج       تهران      اصفهان       شیراز        مشهد"
      ]
     },
     "execution_count": 53,
     "metadata": {},
     "output_type": "execute_result"
    }
   ],
   "source": [
    "submission = pd.DataFrame({'Suggestion0': ['کرج'],\n",
    "                           'Suggestion1': ['تهران'],\n",
    "                           'Suggestion2': ['اصفهان'],\n",
    "                           'Suggestion3': ['شیراز'],\n",
    "                           'Suggestion4': ['مشهد']})\n",
    "submission.head()"
   ]
  },
  {
   "cell_type": "markdown",
   "id": "0a77e7cd",
   "metadata": {},
   "source": [
    "<h2 align=right style=\"line-height:200%;font-family:vazir;color:#0099cc\">\n",
    "<font face=\"vazir\" color=\"#0099cc\">\n",
    "<b>سلول جواب‌ساز</b>\n",
    "</font>\n",
    "</h2>\n",
    "\n",
    "<p dir=rtl style=\"direction: rtl; text-align: justify; line-height:200%; font-family:vazir; font-size:medium\">\n",
    "<font face=\"vazir\" size=3>\n",
    "    برای ساخته‌شدن فایل <code>result.zip</code> سلول زیر را اجرا کنید. توجه داشته باشید که پیش از اجرای سلول زیر تغییرات اعمال شده در نت‌بوک را ذخیره کرده باشید (<code>ctrl+s</code>) تا در صورت نیاز به پشتیبانی امکان بررسی کد شما وجود داشته باشد.\n",
    "</font>\n",
    "</p>"
   ]
  },
  {
   "cell_type": "code",
   "execution_count": null,
   "id": "2c3bcd76",
   "metadata": {},
   "outputs": [],
   "source": [
    "import zipfile\n",
    "import joblib\n",
    "\n",
    "def compress(file_names):\n",
    "    print(\"File Paths:\")\n",
    "    print(file_names)\n",
    "    compression = zipfile.ZIP_DEFLATED\n",
    "    with zipfile.ZipFile(\"result.zip\", mode=\"w\") as zf:\n",
    "        for file_name in file_names:\n",
    "            zf.write('./' + file_name, file_name, compress_type=compression)\n",
    "\n",
    "submission.to_csv('submission.csv', index=False)\n",
    "file_names = ['auto_suggest.ipynb', 'submission.csv']\n",
    "compress(file_names)"
   ]
  },
  {
   "attachments": {},
   "cell_type": "markdown",
   "id": "9d324736",
   "metadata": {},
   "source": [
    "<h4 align=right style=\"line-height:200%;font-family:vazir;color:#0099cc\">\n",
    "<font face=\"vazir\" color=\"#0099cc\">\n",
    "<b>راهنمایی</b>\n",
    "</font>\n",
    "</h4>\n",
    "\n",
    "<p dir=rtl style=\"direction: rtl; text-align: justify; line-height:200%; font-family:vazir; font-size:medium\">\n",
    "<font face=\"vazir\" size=3>\n",
    "    ۱. در پیش‌بینی‌ تولید شده اولویت با شهرهایی است که دقیقاً با آن‌چه که کاربر تایپ کرده شروع شوند.\n",
    "    <br>\n",
    "    ۲. خود را به استفاده از تنها یک روش استاندارد محدود نکنید و از روش‌های ترکیبی و خلاقانه‌ای که به ذهن‌تان می‌رسد کمک بگیرید.\n",
    "</font>\n",
    "</p>"
   ]
  }
 ],
 "metadata": {
  "kernelspec": {
   "display_name": "Python 3.8.15 ('college')",
   "language": "python",
   "name": "python3"
  },
  "language_info": {
   "codemirror_mode": {
    "name": "ipython",
    "version": 3
   },
   "file_extension": ".py",
   "mimetype": "text/x-python",
   "name": "python",
   "nbconvert_exporter": "python",
   "pygments_lexer": "ipython3",
   "version": "3.8.15 (default, Nov  4 2022, 15:16:59) [MSC v.1916 64 bit (AMD64)]"
  },
  "vscode": {
   "interpreter": {
    "hash": "b25290d91e68666390a3f16911fef54d65a01c351d921450f79ed6c4a91d0756"
   }
  }
 },
 "nbformat": 4,
 "nbformat_minor": 5
}
