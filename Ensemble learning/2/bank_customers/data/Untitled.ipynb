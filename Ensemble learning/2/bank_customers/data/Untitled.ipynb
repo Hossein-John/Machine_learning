{
 "cells": [
  {
   "cell_type": "code",
   "execution_count": 3,
   "id": "53f2bd67-5cca-42c3-a89f-025ce74f33c4",
   "metadata": {},
   "outputs": [],
   "source": [
    "import pandas as pd"
   ]
  },
  {
   "cell_type": "code",
   "execution_count": 4,
   "id": "edebd767-b960-4c6d-adcd-e1008686928a",
   "metadata": {},
   "outputs": [],
   "source": [
    "train_data = pd.DataFrame({'column': [10, 15, 20, 100, 5]})\n"
   ]
  },
  {
   "cell_type": "code",
   "execution_count": 5,
   "id": "47db4a49-9e0d-4ae7-be14-969b978507a9",
   "metadata": {},
   "outputs": [],
   "source": [
    "lower_bound = 10\n",
    "upper_bound = 30\n"
   ]
  },
  {
   "cell_type": "code",
   "execution_count": 6,
   "id": "d13cdd39-d781-4817-9a05-c84d776ec628",
   "metadata": {},
   "outputs": [],
   "source": [
    "train_data['column'] = train_data['column'].where(\n",
    "    (train_data['column'] >= lower_bound) & (train_data['column'] <= upper_bound)\n",
    ")\n"
   ]
  },
  {
   "cell_type": "code",
   "execution_count": 7,
   "id": "fd5cbf4c-c0f8-42b3-af75-314695212499",
   "metadata": {},
   "outputs": [
    {
     "data": {
      "text/html": [
       "<div>\n",
       "<style scoped>\n",
       "    .dataframe tbody tr th:only-of-type {\n",
       "        vertical-align: middle;\n",
       "    }\n",
       "\n",
       "    .dataframe tbody tr th {\n",
       "        vertical-align: top;\n",
       "    }\n",
       "\n",
       "    .dataframe thead th {\n",
       "        text-align: right;\n",
       "    }\n",
       "</style>\n",
       "<table border=\"1\" class=\"dataframe\">\n",
       "  <thead>\n",
       "    <tr style=\"text-align: right;\">\n",
       "      <th></th>\n",
       "      <th>column</th>\n",
       "    </tr>\n",
       "  </thead>\n",
       "  <tbody>\n",
       "    <tr>\n",
       "      <th>0</th>\n",
       "      <td>10.0</td>\n",
       "    </tr>\n",
       "    <tr>\n",
       "      <th>1</th>\n",
       "      <td>15.0</td>\n",
       "    </tr>\n",
       "    <tr>\n",
       "      <th>2</th>\n",
       "      <td>20.0</td>\n",
       "    </tr>\n",
       "    <tr>\n",
       "      <th>3</th>\n",
       "      <td>NaN</td>\n",
       "    </tr>\n",
       "    <tr>\n",
       "      <th>4</th>\n",
       "      <td>NaN</td>\n",
       "    </tr>\n",
       "  </tbody>\n",
       "</table>\n",
       "</div>"
      ],
      "text/plain": [
       "   column\n",
       "0    10.0\n",
       "1    15.0\n",
       "2    20.0\n",
       "3     NaN\n",
       "4     NaN"
      ]
     },
     "execution_count": 7,
     "metadata": {},
     "output_type": "execute_result"
    }
   ],
   "source": [
    "train_data"
   ]
  },
  {
   "cell_type": "code",
   "execution_count": null,
   "id": "5a11f740-baa4-45d1-820d-632745034155",
   "metadata": {},
   "outputs": [],
   "source": []
  }
 ],
 "metadata": {
  "kernelspec": {
   "display_name": "Python 3 (ipykernel)",
   "language": "python",
   "name": "python3"
  },
  "language_info": {
   "codemirror_mode": {
    "name": "ipython",
    "version": 3
   },
   "file_extension": ".py",
   "mimetype": "text/x-python",
   "name": "python",
   "nbconvert_exporter": "python",
   "pygments_lexer": "ipython3",
   "version": "3.10.6"
  }
 },
 "nbformat": 4,
 "nbformat_minor": 5
}
