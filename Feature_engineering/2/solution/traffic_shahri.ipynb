{
 "cells": [
  {
   "cell_type": "markdown",
   "id": "d333515a",
   "metadata": {},
   "source": [
    "<h1 align=center style=\"line-height:200%;font-family:vazir;color:#0099cc\">\n",
    "<font face=\"vazir\" color=\"#0099cc\">\n",
    "ترافیک شهری\n",
    "</font>\n",
    "</h1>"
   ]
  },
  {
   "cell_type": "markdown",
   "id": "6ed20bff",
   "metadata": {},
   "source": [
    "<h2 align=right style=\"line-height:200%;font-family:vazir;color:#0099cc\">\n",
    "<font face=\"vazir\" color=\"#0099cc\">\n",
    "مقدمه\n",
    "</font>\n",
    "</h2>\n",
    "\n",
    "<p dir=rtl style=\"direction: rtl;text-align: right;line-height:200%;font-family:vazir;font-size:medium\">\n",
    "<font face=\"vazir\" size=3>\n",
    "    ترافیک شهری به یکی از بزرگترین معظلات شهرنشینان تبدیل شده است. شما هم اگر ساکن شهرهای بزرگی مثل تهران، مشهد و اصفهان باشید، حتما بخش زیادی از وقتتان را در ترافیک گذرانده‌اید.\n",
    "    <br>\n",
    "     اما اتلاف وقت، تنها یکی از چندین و چند ضرری است که عدم کنترل و بی‌برنامگی ترافیک به‌بار می‌آورد. افزایش مصرف حامل‌های انرژی، آلودگی هوا و مشکلات  روانی تنها بخشی از آسیب‌های عدم مدیریت ترافیک شهری هستند.\n",
    "    <br>\n",
    "    بافت قدیمی شهر‌ها، استاندارد نبودن مسیرها، ضعف سیستم‌های کنترلی مثل چراغ‌های راهنمایی، عدم توازن ناوگان حمل‌ونقل عمومی، از جمله عواملی هستند که روی افزایش ترافیک شهری تاثیر می‌گذارند.\n",
    "    <br>\n",
    "    در این تمرین می‌خواهیم به شهرداری کمک کنیم در مدیریت ترافیک شهری، موفق‌تر عمل کند.\n",
    "    <br>\n",
    "</font>\n",
    "</p>"
   ]
  },
  {
   "cell_type": "markdown",
   "id": "72faaed8",
   "metadata": {},
   "source": [
    "<h2 align=right style=\"line-height:200%;font-family:vazir;color:#0099cc\">\n",
    "<font face=\"vazir\" color=\"#0099cc\">\n",
    "مجموعه داده\n",
    "</font>\n",
    "</h2>\n",
    "\n",
    "<p dir=rtl style=\"direction: rtl;text-align: right;line-height:200%;font-family:vazir;font-size:medium\">\n",
    "<font face=\"vazir\" size=3>\n",
    "    در این تمرین، اطلاعاتی را از ۴ چهار‌راه در کلانشهر اصفهان در اختیار داریم. دوربین‌های سر هر چهارراه، تعداد ماشینی که در هر ساعت شبانه‌روز از چهارراه گذر کرده است را شمرده اند. بنابراین مجموعه داده ما به شکل جدول زیر است.\n",
    "</font>\n",
    "</p>\n",
    "\n",
    "\n",
    "<div dir=rtl style=\"direction: rtl;text-align: right;line-height:200%;font-family:vazir;font-size:medium\">\n",
    "<font face=\"vazir\" size=3>\n",
    "    \n",
    "|ستون|توضیحات|\n",
    "|------|---|\n",
    "|DateTime|زمان ثبت رکورد|\n",
    "|Junction|شماره چهارراه|\n",
    "|Car|تعداد ماشین‌های گذرکرده|\n",
    "    \n",
    "</font>\n",
    "</div>\n",
    "\n",
    "\n",
    "\n",
    "<p dir=rtl style=\"direction: rtl;text-align: right;line-height:200%;font-family:vazir;font-size:medium\">\n",
    "<font face=\"vazir\" size=3>\n",
    " اطلاعات هر چهارراه از اولین ساعت شبانه‌روز تا ساعت پایانی روز، به مدت چندین ماه، ثبت و ضبط شده است. به عنوان مثال تعداد ماشین‌های گذرکرده از چهارراه اول، از تاریخ 2020/5/2 هر یک ساعت به یک ساعت جمع‌آوری شده است.\n",
    "    <br>\n",
    "    هدف این مسئه آن است که تعداد ماشین‌های گذرکننده از هر چهارراه را در هر ساعت از شبانه روز تخمین بزنیم. از آن جایی که شما هنوز با مدلسازی آشنا نیستید، از شما می‌خواهیم در مهندسی ویژگی‌ها به ما کمک کنید. در همین فایل نوت‌بوک سلول‌هایی برای مدلسازی قرار داده شده‌اند که شما نیازی نیست عملکرد آن‌ها را درک کنید، فقط آن‌ها را اجرا کنید و نتیجه پیش‌پردازش‌های خودتان را مشاهده کنید.\n",
    "    <br>\n",
    "    حال از شما می‌خواهیم با تکنیک‌هایی که در درسنامه‌های قبلی آموختید، به سنتز و تولید ویژگی بپردازید.\n",
    "</font>\n",
    "</p>"
   ]
  },
  {
   "cell_type": "markdown",
   "id": "e99bbe9b",
   "metadata": {},
   "source": [
    "\n",
    "<p dir=rtl style=\"direction: rtl;text-align: right;line-height:200%;font-family:vazir;font-size:medium\">\n",
    "<font face=\"vazir\" size=3>\n",
    "    ابتدا کتابخانه‌های مورد نیازتان را وارد کنید و سپس مجموعه داده را از فایل بخوانید.\n",
    "</font>\n",
    "</p>"
   ]
  },
  {
   "cell_type": "code",
   "execution_count": 1,
   "id": "99450f9e",
   "metadata": {},
   "outputs": [
    {
     "name": "stderr",
     "output_type": "stream",
     "text": [
      "C:\\Users\\hahmadi\\Desktop\\Hossein John\\Machine learning\\qenv\\lib\\site-packages\\khayyam\\algorithms.py:18: UserWarning: The C extension is not available. Switching to fallback python pure algorithms,so it's about 1000X slower than C implementation of the algorithms.\n",
      "  warnings.warn(\n"
     ]
    }
   ],
   "source": [
    "import numpy as np\n",
    "import pandas as pd \n",
    "from khayyam import JalaliDatetime\n",
    "from datetime import timedelta\n",
    "\n",
    "from flaml import AutoML\n",
    "from sklearn.metrics import r2_score"
   ]
  },
  {
   "cell_type": "code",
   "execution_count": 2,
   "id": "7dcb9e87",
   "metadata": {},
   "outputs": [
    {
     "ename": "FileNotFoundError",
     "evalue": "[Errno 2] No such file or directory: '../data/traffic.csv'",
     "output_type": "error",
     "traceback": [
      "\u001b[1;31m---------------------------------------------------------------------------\u001b[0m",
      "\u001b[1;31mFileNotFoundError\u001b[0m                         Traceback (most recent call last)",
      "Cell \u001b[1;32mIn[2], line 1\u001b[0m\n\u001b[1;32m----> 1\u001b[0m df \u001b[38;5;241m=\u001b[39m \u001b[43mpd\u001b[49m\u001b[38;5;241;43m.\u001b[39;49m\u001b[43mread_csv\u001b[49m\u001b[43m(\u001b[49m\u001b[38;5;124;43m'\u001b[39;49m\u001b[38;5;124;43m../data/traffic.csv\u001b[39;49m\u001b[38;5;124;43m'\u001b[39;49m\u001b[43m,\u001b[49m\u001b[43m \u001b[49m\u001b[43mparse_dates\u001b[49m\u001b[38;5;241;43m=\u001b[39;49m\u001b[43m[\u001b[49m\u001b[38;5;124;43m'\u001b[39;49m\u001b[38;5;124;43mDateTime\u001b[39;49m\u001b[38;5;124;43m'\u001b[39;49m\u001b[43m]\u001b[49m\u001b[43m)\u001b[49m\n",
      "File \u001b[1;32m~\\Desktop\\Hossein John\\Machine learning\\qenv\\lib\\site-packages\\pandas\\io\\parsers\\readers.py:1026\u001b[0m, in \u001b[0;36mread_csv\u001b[1;34m(filepath_or_buffer, sep, delimiter, header, names, index_col, usecols, dtype, engine, converters, true_values, false_values, skipinitialspace, skiprows, skipfooter, nrows, na_values, keep_default_na, na_filter, verbose, skip_blank_lines, parse_dates, infer_datetime_format, keep_date_col, date_parser, date_format, dayfirst, cache_dates, iterator, chunksize, compression, thousands, decimal, lineterminator, quotechar, quoting, doublequote, escapechar, comment, encoding, encoding_errors, dialect, on_bad_lines, delim_whitespace, low_memory, memory_map, float_precision, storage_options, dtype_backend)\u001b[0m\n\u001b[0;32m   1013\u001b[0m kwds_defaults \u001b[38;5;241m=\u001b[39m _refine_defaults_read(\n\u001b[0;32m   1014\u001b[0m     dialect,\n\u001b[0;32m   1015\u001b[0m     delimiter,\n\u001b[1;32m   (...)\u001b[0m\n\u001b[0;32m   1022\u001b[0m     dtype_backend\u001b[38;5;241m=\u001b[39mdtype_backend,\n\u001b[0;32m   1023\u001b[0m )\n\u001b[0;32m   1024\u001b[0m kwds\u001b[38;5;241m.\u001b[39mupdate(kwds_defaults)\n\u001b[1;32m-> 1026\u001b[0m \u001b[38;5;28;01mreturn\u001b[39;00m \u001b[43m_read\u001b[49m\u001b[43m(\u001b[49m\u001b[43mfilepath_or_buffer\u001b[49m\u001b[43m,\u001b[49m\u001b[43m \u001b[49m\u001b[43mkwds\u001b[49m\u001b[43m)\u001b[49m\n",
      "File \u001b[1;32m~\\Desktop\\Hossein John\\Machine learning\\qenv\\lib\\site-packages\\pandas\\io\\parsers\\readers.py:620\u001b[0m, in \u001b[0;36m_read\u001b[1;34m(filepath_or_buffer, kwds)\u001b[0m\n\u001b[0;32m    617\u001b[0m _validate_names(kwds\u001b[38;5;241m.\u001b[39mget(\u001b[38;5;124m\"\u001b[39m\u001b[38;5;124mnames\u001b[39m\u001b[38;5;124m\"\u001b[39m, \u001b[38;5;28;01mNone\u001b[39;00m))\n\u001b[0;32m    619\u001b[0m \u001b[38;5;66;03m# Create the parser.\u001b[39;00m\n\u001b[1;32m--> 620\u001b[0m parser \u001b[38;5;241m=\u001b[39m TextFileReader(filepath_or_buffer, \u001b[38;5;241m*\u001b[39m\u001b[38;5;241m*\u001b[39mkwds)\n\u001b[0;32m    622\u001b[0m \u001b[38;5;28;01mif\u001b[39;00m chunksize \u001b[38;5;129;01mor\u001b[39;00m iterator:\n\u001b[0;32m    623\u001b[0m     \u001b[38;5;28;01mreturn\u001b[39;00m parser\n",
      "File \u001b[1;32m~\\Desktop\\Hossein John\\Machine learning\\qenv\\lib\\site-packages\\pandas\\io\\parsers\\readers.py:1620\u001b[0m, in \u001b[0;36mTextFileReader.__init__\u001b[1;34m(self, f, engine, **kwds)\u001b[0m\n\u001b[0;32m   1617\u001b[0m     \u001b[38;5;28mself\u001b[39m\u001b[38;5;241m.\u001b[39moptions[\u001b[38;5;124m\"\u001b[39m\u001b[38;5;124mhas_index_names\u001b[39m\u001b[38;5;124m\"\u001b[39m] \u001b[38;5;241m=\u001b[39m kwds[\u001b[38;5;124m\"\u001b[39m\u001b[38;5;124mhas_index_names\u001b[39m\u001b[38;5;124m\"\u001b[39m]\n\u001b[0;32m   1619\u001b[0m \u001b[38;5;28mself\u001b[39m\u001b[38;5;241m.\u001b[39mhandles: IOHandles \u001b[38;5;241m|\u001b[39m \u001b[38;5;28;01mNone\u001b[39;00m \u001b[38;5;241m=\u001b[39m \u001b[38;5;28;01mNone\u001b[39;00m\n\u001b[1;32m-> 1620\u001b[0m \u001b[38;5;28mself\u001b[39m\u001b[38;5;241m.\u001b[39m_engine \u001b[38;5;241m=\u001b[39m \u001b[38;5;28;43mself\u001b[39;49m\u001b[38;5;241;43m.\u001b[39;49m\u001b[43m_make_engine\u001b[49m\u001b[43m(\u001b[49m\u001b[43mf\u001b[49m\u001b[43m,\u001b[49m\u001b[43m \u001b[49m\u001b[38;5;28;43mself\u001b[39;49m\u001b[38;5;241;43m.\u001b[39;49m\u001b[43mengine\u001b[49m\u001b[43m)\u001b[49m\n",
      "File \u001b[1;32m~\\Desktop\\Hossein John\\Machine learning\\qenv\\lib\\site-packages\\pandas\\io\\parsers\\readers.py:1880\u001b[0m, in \u001b[0;36mTextFileReader._make_engine\u001b[1;34m(self, f, engine)\u001b[0m\n\u001b[0;32m   1878\u001b[0m     \u001b[38;5;28;01mif\u001b[39;00m \u001b[38;5;124m\"\u001b[39m\u001b[38;5;124mb\u001b[39m\u001b[38;5;124m\"\u001b[39m \u001b[38;5;129;01mnot\u001b[39;00m \u001b[38;5;129;01min\u001b[39;00m mode:\n\u001b[0;32m   1879\u001b[0m         mode \u001b[38;5;241m+\u001b[39m\u001b[38;5;241m=\u001b[39m \u001b[38;5;124m\"\u001b[39m\u001b[38;5;124mb\u001b[39m\u001b[38;5;124m\"\u001b[39m\n\u001b[1;32m-> 1880\u001b[0m \u001b[38;5;28mself\u001b[39m\u001b[38;5;241m.\u001b[39mhandles \u001b[38;5;241m=\u001b[39m \u001b[43mget_handle\u001b[49m\u001b[43m(\u001b[49m\n\u001b[0;32m   1881\u001b[0m \u001b[43m    \u001b[49m\u001b[43mf\u001b[49m\u001b[43m,\u001b[49m\n\u001b[0;32m   1882\u001b[0m \u001b[43m    \u001b[49m\u001b[43mmode\u001b[49m\u001b[43m,\u001b[49m\n\u001b[0;32m   1883\u001b[0m \u001b[43m    \u001b[49m\u001b[43mencoding\u001b[49m\u001b[38;5;241;43m=\u001b[39;49m\u001b[38;5;28;43mself\u001b[39;49m\u001b[38;5;241;43m.\u001b[39;49m\u001b[43moptions\u001b[49m\u001b[38;5;241;43m.\u001b[39;49m\u001b[43mget\u001b[49m\u001b[43m(\u001b[49m\u001b[38;5;124;43m\"\u001b[39;49m\u001b[38;5;124;43mencoding\u001b[39;49m\u001b[38;5;124;43m\"\u001b[39;49m\u001b[43m,\u001b[49m\u001b[43m \u001b[49m\u001b[38;5;28;43;01mNone\u001b[39;49;00m\u001b[43m)\u001b[49m\u001b[43m,\u001b[49m\n\u001b[0;32m   1884\u001b[0m \u001b[43m    \u001b[49m\u001b[43mcompression\u001b[49m\u001b[38;5;241;43m=\u001b[39;49m\u001b[38;5;28;43mself\u001b[39;49m\u001b[38;5;241;43m.\u001b[39;49m\u001b[43moptions\u001b[49m\u001b[38;5;241;43m.\u001b[39;49m\u001b[43mget\u001b[49m\u001b[43m(\u001b[49m\u001b[38;5;124;43m\"\u001b[39;49m\u001b[38;5;124;43mcompression\u001b[39;49m\u001b[38;5;124;43m\"\u001b[39;49m\u001b[43m,\u001b[49m\u001b[43m \u001b[49m\u001b[38;5;28;43;01mNone\u001b[39;49;00m\u001b[43m)\u001b[49m\u001b[43m,\u001b[49m\n\u001b[0;32m   1885\u001b[0m \u001b[43m    \u001b[49m\u001b[43mmemory_map\u001b[49m\u001b[38;5;241;43m=\u001b[39;49m\u001b[38;5;28;43mself\u001b[39;49m\u001b[38;5;241;43m.\u001b[39;49m\u001b[43moptions\u001b[49m\u001b[38;5;241;43m.\u001b[39;49m\u001b[43mget\u001b[49m\u001b[43m(\u001b[49m\u001b[38;5;124;43m\"\u001b[39;49m\u001b[38;5;124;43mmemory_map\u001b[39;49m\u001b[38;5;124;43m\"\u001b[39;49m\u001b[43m,\u001b[49m\u001b[43m \u001b[49m\u001b[38;5;28;43;01mFalse\u001b[39;49;00m\u001b[43m)\u001b[49m\u001b[43m,\u001b[49m\n\u001b[0;32m   1886\u001b[0m \u001b[43m    \u001b[49m\u001b[43mis_text\u001b[49m\u001b[38;5;241;43m=\u001b[39;49m\u001b[43mis_text\u001b[49m\u001b[43m,\u001b[49m\n\u001b[0;32m   1887\u001b[0m \u001b[43m    \u001b[49m\u001b[43merrors\u001b[49m\u001b[38;5;241;43m=\u001b[39;49m\u001b[38;5;28;43mself\u001b[39;49m\u001b[38;5;241;43m.\u001b[39;49m\u001b[43moptions\u001b[49m\u001b[38;5;241;43m.\u001b[39;49m\u001b[43mget\u001b[49m\u001b[43m(\u001b[49m\u001b[38;5;124;43m\"\u001b[39;49m\u001b[38;5;124;43mencoding_errors\u001b[39;49m\u001b[38;5;124;43m\"\u001b[39;49m\u001b[43m,\u001b[49m\u001b[43m \u001b[49m\u001b[38;5;124;43m\"\u001b[39;49m\u001b[38;5;124;43mstrict\u001b[39;49m\u001b[38;5;124;43m\"\u001b[39;49m\u001b[43m)\u001b[49m\u001b[43m,\u001b[49m\n\u001b[0;32m   1888\u001b[0m \u001b[43m    \u001b[49m\u001b[43mstorage_options\u001b[49m\u001b[38;5;241;43m=\u001b[39;49m\u001b[38;5;28;43mself\u001b[39;49m\u001b[38;5;241;43m.\u001b[39;49m\u001b[43moptions\u001b[49m\u001b[38;5;241;43m.\u001b[39;49m\u001b[43mget\u001b[49m\u001b[43m(\u001b[49m\u001b[38;5;124;43m\"\u001b[39;49m\u001b[38;5;124;43mstorage_options\u001b[39;49m\u001b[38;5;124;43m\"\u001b[39;49m\u001b[43m,\u001b[49m\u001b[43m \u001b[49m\u001b[38;5;28;43;01mNone\u001b[39;49;00m\u001b[43m)\u001b[49m\u001b[43m,\u001b[49m\n\u001b[0;32m   1889\u001b[0m \u001b[43m\u001b[49m\u001b[43m)\u001b[49m\n\u001b[0;32m   1890\u001b[0m \u001b[38;5;28;01massert\u001b[39;00m \u001b[38;5;28mself\u001b[39m\u001b[38;5;241m.\u001b[39mhandles \u001b[38;5;129;01mis\u001b[39;00m \u001b[38;5;129;01mnot\u001b[39;00m \u001b[38;5;28;01mNone\u001b[39;00m\n\u001b[0;32m   1891\u001b[0m f \u001b[38;5;241m=\u001b[39m \u001b[38;5;28mself\u001b[39m\u001b[38;5;241m.\u001b[39mhandles\u001b[38;5;241m.\u001b[39mhandle\n",
      "File \u001b[1;32m~\\Desktop\\Hossein John\\Machine learning\\qenv\\lib\\site-packages\\pandas\\io\\common.py:873\u001b[0m, in \u001b[0;36mget_handle\u001b[1;34m(path_or_buf, mode, encoding, compression, memory_map, is_text, errors, storage_options)\u001b[0m\n\u001b[0;32m    868\u001b[0m \u001b[38;5;28;01melif\u001b[39;00m \u001b[38;5;28misinstance\u001b[39m(handle, \u001b[38;5;28mstr\u001b[39m):\n\u001b[0;32m    869\u001b[0m     \u001b[38;5;66;03m# Check whether the filename is to be opened in binary mode.\u001b[39;00m\n\u001b[0;32m    870\u001b[0m     \u001b[38;5;66;03m# Binary mode does not support 'encoding' and 'newline'.\u001b[39;00m\n\u001b[0;32m    871\u001b[0m     \u001b[38;5;28;01mif\u001b[39;00m ioargs\u001b[38;5;241m.\u001b[39mencoding \u001b[38;5;129;01mand\u001b[39;00m \u001b[38;5;124m\"\u001b[39m\u001b[38;5;124mb\u001b[39m\u001b[38;5;124m\"\u001b[39m \u001b[38;5;129;01mnot\u001b[39;00m \u001b[38;5;129;01min\u001b[39;00m ioargs\u001b[38;5;241m.\u001b[39mmode:\n\u001b[0;32m    872\u001b[0m         \u001b[38;5;66;03m# Encoding\u001b[39;00m\n\u001b[1;32m--> 873\u001b[0m         handle \u001b[38;5;241m=\u001b[39m \u001b[38;5;28;43mopen\u001b[39;49m\u001b[43m(\u001b[49m\n\u001b[0;32m    874\u001b[0m \u001b[43m            \u001b[49m\u001b[43mhandle\u001b[49m\u001b[43m,\u001b[49m\n\u001b[0;32m    875\u001b[0m \u001b[43m            \u001b[49m\u001b[43mioargs\u001b[49m\u001b[38;5;241;43m.\u001b[39;49m\u001b[43mmode\u001b[49m\u001b[43m,\u001b[49m\n\u001b[0;32m    876\u001b[0m \u001b[43m            \u001b[49m\u001b[43mencoding\u001b[49m\u001b[38;5;241;43m=\u001b[39;49m\u001b[43mioargs\u001b[49m\u001b[38;5;241;43m.\u001b[39;49m\u001b[43mencoding\u001b[49m\u001b[43m,\u001b[49m\n\u001b[0;32m    877\u001b[0m \u001b[43m            \u001b[49m\u001b[43merrors\u001b[49m\u001b[38;5;241;43m=\u001b[39;49m\u001b[43merrors\u001b[49m\u001b[43m,\u001b[49m\n\u001b[0;32m    878\u001b[0m \u001b[43m            \u001b[49m\u001b[43mnewline\u001b[49m\u001b[38;5;241;43m=\u001b[39;49m\u001b[38;5;124;43m\"\u001b[39;49m\u001b[38;5;124;43m\"\u001b[39;49m\u001b[43m,\u001b[49m\n\u001b[0;32m    879\u001b[0m \u001b[43m        \u001b[49m\u001b[43m)\u001b[49m\n\u001b[0;32m    880\u001b[0m     \u001b[38;5;28;01melse\u001b[39;00m:\n\u001b[0;32m    881\u001b[0m         \u001b[38;5;66;03m# Binary mode\u001b[39;00m\n\u001b[0;32m    882\u001b[0m         handle \u001b[38;5;241m=\u001b[39m \u001b[38;5;28mopen\u001b[39m(handle, ioargs\u001b[38;5;241m.\u001b[39mmode)\n",
      "\u001b[1;31mFileNotFoundError\u001b[0m: [Errno 2] No such file or directory: '../data/traffic.csv'"
     ]
    }
   ],
   "source": [
    "df = pd.read_csv('../data/traffic.csv', parse_dates=['DateTime'])"
   ]
  },
  {
   "cell_type": "code",
   "execution_count": null,
   "id": "4ed01308",
   "metadata": {},
   "outputs": [],
   "source": [
    "df"
   ]
  },
  {
   "cell_type": "markdown",
   "id": "65c1b2fb",
   "metadata": {},
   "source": [
    "\n",
    "<p dir=rtl style=\"direction: rtl;text-align: right;line-height:200%;font-family:vazir;font-size:medium\">\n",
    "<font face=\"vazir\" size=3>\n",
    "    برای آن که ارزش کار خود را درک کنید، نیاز است ابتدا که هیچگونه پیش‌پردازشی روی داده انجام نشده است، یکبار با آن مدلسازی کنید و عملکرد مدل را مشاهده کنید. با اجرای سلول زیر یک مدل روی داده آموزش می‌بیند و نتایجی تولید می‌کند.\n",
    "    <br>\n",
    "    اگر اجرای این سلول با شکست مواجه شد، می‌تواند به یکی از دلایل زیر باشد.\n",
    "</font>\n",
    "</p>\n",
    "\n",
    "\n",
    "<div dir=rtl style=\"direction: rtl;text-align: right;line-height:200%;font-family:vazir;font-size:medium\">\n",
    "<font face=\"vazir\" size=3>\n",
    "    <ul>\n",
    "        <li>\n",
    "            کتابخانه Fast Auto ML را نصب نکرده باشید.\n",
    "        </li>\n",
    "        <li>\n",
    "            در بارگزاری مجموعه داده دچار مشکل شده باشید.\n",
    "        </li>\n",
    "    </ul>\n",
    "</font>\n",
    "</div>"
   ]
  },
  {
   "cell_type": "code",
   "execution_count": null,
   "id": "237d5b74",
   "metadata": {},
   "outputs": [],
   "source": [
    "model = AutoML(task='regression', time_budget=60, verbose=0)\n",
    "train = df.loc[:48000]\n",
    "test = df.loc[48000:]\n",
    "model.fit(train.drop('Car', axis=1), train.Car)\n",
    "y_pred = model.predict(test.drop('Car', axis=1))\n",
    "r2score = round(r2_score(test.Car, y_pred),2) * 100 \n",
    "print(f'performance of model is {r2score}%')"
   ]
  },
  {
   "cell_type": "markdown",
   "id": "23daec54",
   "metadata": {},
   "source": [
    "<h2 align=right style=\"line-height:200%;font-family:vazir;color:#0099cc\">\n",
    "<font face=\"vazir\" color=\"#0099cc\">\n",
    "قسمت اول\n",
    "</font>\n",
    "</h2>\n",
    "\n",
    "<p dir=rtl style=\"direction: rtl;text-align: right;line-height:200%;font-family:vazir;font-size:medium\">\n",
    "<font face=\"vazir\" size=3>\n",
    "    متاسفانه دوربین‌هایی که در چهارراه‌ها نصب شده بودند، همگی وارداتی بوده اند. بنابراین به جای ثبت تاریخ، طبق تقویم جلالی (هجری شمسی)، تاریخ را به صورت میلادی ذخیره کرده‌است.\n",
    "    <br>\n",
    "    در اولین گام، از شما می‌خواهیم با استفاده از \n",
    "    <a href=\"https://khayyam.dobisel.com/\">کتابخانه خیام</a>\n",
    "    که برای کار با تقویم جلالی توسعه یافته‌است، همه تاریخ‌های میلادی را به تاریخ شمسی تبدیل کنید. به عبارت بهتر، معادل شمسی تاریخ‌هایی که در ستون <code>DateTime</code> دیتافریم <code>df</code> وجود دارند را درون ستون <code>JalaliDateTime</code> ذخیره کنید.\n",
    "    <br>\n",
    "    توجه داشته باشید، ستون <code>JalaliDateTime</code> در سلول جوابساز، به عنوان یکی از مولفه‌هایی که مورد داوری قرار می‌گیرند، از دیتافریم <code>df</code> استخراج می‌شود. بنابراین هیچ تغییری در ترتیب سطر‌ها و اسم ستون اعمال نکنید.\n",
    "    <br>\n",
    "    برای انجام راحت‌تر این قسمت و آشنایی بیشتر با کتابخانه خیام، سلول زیر را اجرا و نتیجه آن را مشاهده کنید.\n",
    "    <br>\n",
    "    به نحوه تغییر تاریخ میلادی به تاریخ شمسی توجه کنید!\n",
    "</font>\n",
    "</p>"
   ]
  },
  {
   "cell_type": "code",
   "execution_count": null,
   "id": "f7c23000",
   "metadata": {},
   "outputs": [],
   "source": [
    "from datetime import datetime as dt\n",
    "miladi_date = dt(1998,10,29)\n",
    "print(f'Miladi date = {miladi_date}')\n",
    "\n",
    "from khayyam import JalaliDatetime\n",
    "shamsi_date = JalaliDatetime(miladi_date)\n",
    "print('Sahmsi date = ', shamsi_date)"
   ]
  },
  {
   "cell_type": "code",
   "execution_count": null,
   "id": "9ed13231",
   "metadata": {},
   "outputs": [],
   "source": [
    "#TODO: convert gregorian datetime to jalali datatime\n",
    "df['JalaliDateTime'] = df.DateTime.apply(JalaliDatetime)\n",
    "df"
   ]
  },
  {
   "cell_type": "markdown",
   "id": "f99f2c94",
   "metadata": {},
   "source": [
    "<h2 align=right style=\"line-height:200%;font-family:vazir;color:#0099cc\">\n",
    "<font face=\"vazir\" color=\"#0099cc\">\n",
    "قسمت دوم\n",
    "</font>\n",
    "</h2>\n",
    "\n",
    "<p dir=rtl style=\"direction: rtl;text-align: right;line-height:200%;font-family:vazir;font-size:medium\">\n",
    "<font face=\"vazir\" size=3>\n",
    "    قصد داریم گسسته‌شده ساعتی که یک رکورد ثبت شده است را به عنوان ویژگی جدیدی به دیتافریم <code>df</code> اضافه کنیم. اسم این ستون را <code>hour</code> بگذارید.\n",
    "    <br>\n",
    "    به این منظور لازم است طبق جدول زیر، ساعات شبانه روز را گسسته کنیم.\n",
    "    \n",
    "</font>\n",
    "</p>\n",
    "\n",
    "\n",
    "<div dir=rtl style=\"direction: rtl;text-align: right;line-height:200%;font-family:vazir;font-size:medium\">\n",
    "<font face=\"vazir\" size=3>\n",
    "\n",
    "|ساعت|دسته متناظر|\n",
    "|------|------|\n",
    "|از ۰۰:۰۰ تا ۵:۵۹:۵۹|0|\n",
    "|از ۶:۰۰ تا ۱۱:۵۹:۵۹|1|\n",
    "|از ۱۲:۰۰ تا ۱۴:۵۹:۵۹|2|\n",
    "|از ۱۵:۰۰ تا ۱۷:۵۹:۵۹|3|\n",
    "|از ۱۸:۰۰ تا ۲۱:۵۹:۵۹|4|\n",
    "|از ۲۲:۰۰ تا ۲۳:۵۹:۵۹|5|\n",
    "    \n",
    "</font>\n",
    "</div>\n",
    "\n",
    "\n",
    "<p dir=rtl style=\"direction: rtl;text-align: right;line-height:200%;font-family:vazir;font-size:medium\">\n",
    "<font face=\"vazir\" size=3>\n",
    "    بازه‌هایی که در ستون ساعت در جدول بالا آمده است، از هر دو طرف بسته اند. یعنی وقتی می‌گوییم از ساعت ۰۰:۰۰ تا ۵:۵۹:۵۹ را به دسته 0 نگاشت کنید، به این معنی است که هم ساعت ۰۰:۰۰ و هم ساعت ۵:۵۹:۵۹ جز ساعاتی هستند که باید در دسته 0 قرار گیرند.\n",
    "</font>\n",
    "</p>\n",
    "\n",
    "<p dir=rtl style=\"direction: rtl;text-align: right;line-height:200%;font-family:vazir;font-size:medium\">\n",
    "<font face=\"vazir\" size=3>\n",
    "    توجه داشته باشید، ستون <code>hour</code> در سلول جوابساز، به عنوان یکی از مولفه‌هایی که مورد داوری قرار می‌گیرند، از دیتافریم <code>df</code> استخراج می‌شود. بنابراین هیچ تغییری در ترتیب سطر‌ها و اسم ستون اعمال نکنید.\n",
    " <br>\n",
    "    دلیل انتخاب این ویژگی آن است که انتظار داریم تعداد ماشین‌هایی که در نیمه‌های شب در چهارراه‌ها تردد می‌کنند با تعداد ماشین‌هایی که از ساعت ۱۸ تا ۲۲ تردد می‌کنند، متفاوت باشد. البته درست آن است که با تحلیل داده و مصورسازی داده، این تفاوت عددی را توجیه کنیم. این کار را به عنوان تمرین بیشتر، به شما می‌سپاریم!\n",
    "</font>\n",
    "</p>"
   ]
  },
  {
   "cell_type": "code",
   "execution_count": null,
   "id": "03d20a30",
   "metadata": {},
   "outputs": [],
   "source": [
    "#TODO: add hour of record to dateset as a new column named `hour`\n",
    "def discretize_hour (hour) :\n",
    "    if hour < 6 :\n",
    "        return 0 \n",
    "    elif hour < 12 :\n",
    "        return 1 \n",
    "    elif hour < 15 :\n",
    "        return 2\n",
    "    elif hour < 18 :\n",
    "        return 3 \n",
    "    elif hour < 22 :\n",
    "        return 4\n",
    "    return 5\n",
    "\n",
    "df['hour'] = df.DateTime.dt.hour.apply(discretize_hour)\n",
    "df"
   ]
  },
  {
   "cell_type": "markdown",
   "id": "4e9984de",
   "metadata": {},
   "source": [
    "<h2 align=right style=\"line-height:200%;font-family:vazir;color:#0099cc\">\n",
    "<font face=\"vazir\" color=\"#0099cc\">\n",
    "قسمت سوم\n",
    "</font>\n",
    "</h2>\n",
    "\n",
    "<p dir=rtl style=\"direction: rtl;text-align: right;line-height:200%;font-family:vazir;font-size:medium\">\n",
    "<font face=\"vazir\" size=3>\n",
    "    در قسمت سوم از شما می‌خواهیم تعطیل بودن یا نبودن روز ثبت رکورد را تحت ستون جدیدی به اسم <code>IsHoliday</code> به دیتافریم اضافه کنید.\n",
    "    <br>\n",
    "    این ستون دارای دو مقدار ۰ و ۱ خواهد بود. در صورتی که روز ثبت رکورد، جمعه بوده باشد، این ستون ۱ و در غیر این صورت مقدار ۰ خواهد داشت.\n",
    "    <br>\n",
    "    علت انتخاب این ویژگی آن است که انتظار داریم، میزان تردد چهارراه‌ها در روز‌های تعطیل متفاوت از سایر روزها باشد. زیرا تعداد زیادی از ارگان‌ها مانند بانک‌ها یا مدارس، در روزهای تعطیل فعالیتی ندارند و کارمندی در آن‌ها مشغول به کار نیست. \n",
    "</font>\n",
    "</p>"
   ]
  },
  {
   "cell_type": "code",
   "execution_count": null,
   "id": "3d4a0844",
   "metadata": {},
   "outputs": [],
   "source": [
    "#TODO: determine whether it is a holiday or not. Add this feature to `df` as a new column named `IsHoliday`\n",
    "df['IsHoliday'] = df.DateTime.dt.day_name().apply(lambda day_name : 1 if day_name == 'Friday' else 0)\n",
    "df"
   ]
  },
  {
   "cell_type": "markdown",
   "id": "02d8535e",
   "metadata": {},
   "source": [
    "<h2 align=right style=\"line-height:200%;font-family:vazir;color:#0099cc\">\n",
    "<font face=\"vazir\" color=\"#0099cc\">\n",
    "قسمت چهارم\n",
    "</font>\n",
    "</h2>\n",
    "\n",
    "<p dir=rtl style=\"direction: rtl;text-align: right;line-height:200%;font-family:vazir;font-size:medium\">\n",
    "<font face=\"vazir\" size=3>\n",
    "    در قسمت چهارم این سوال می‌خواهیم بدانیم آیا یک رکورد در نیمه سرد سال ثبت شده است یا نیمه گرم سال. منظور از نیمه گرم سال، از شروع فروردین تا انتهای شهریور و منظور از نیمه سرد سال، از ابتدای مهر تا انتهای اسفند است.\n",
    "    <br>\n",
    "    اینکه یک رکورد در نیمه سرد سال ثبت شده باشد یا نه را به عنوان ستون جدیدی به اسم <code>IsCold</code> به دیتافریم <code>df</code> اضافه کنید.\n",
    "    <br>\n",
    "    این ستون فقط دو مقدار ۰ و ۱ قبول می‌کند. برای نیمه سرد سال عدد ۱ و برای نیمه گرم سال عدد ۰ را لحاظ کنید.\n",
    "    <br>\n",
    "    علت انتخاب این ویژگی آن است که در نیمه گرم سال، انتظار داریم مردم بیشتر با موتورسیکلت یا دوچرخه به تردد در شهر بپردازند و در نیمه سرد سال، برای حفاظت از سرما، بیشتر از اتوموبیل استفاده کنند.\n",
    "</font>\n",
    "</p>"
   ]
  },
  {
   "cell_type": "code",
   "execution_count": null,
   "id": "540ea73a",
   "metadata": {},
   "outputs": [],
   "source": [
    "#TODO: determinte whether it is cold or not. Add this feature to `df` as a new column named `IsCold`\n",
    "def is_cold_month (jdate) :\n",
    "    jdate = JalaliDatetime(jdate)\n",
    "    return 1 if jdate.month > 6 else 0\n",
    "\n",
    "df['IsCold'] = df.JalaliDateTime.apply(is_cold_month)"
   ]
  },
  {
   "cell_type": "markdown",
   "id": "3cb303a0",
   "metadata": {},
   "source": [
    "<h2 align=right style=\"line-height:200%;font-family:vazir;color:#0099cc\">\n",
    "<font face=\"vazir\" color=\"#0099cc\">\n",
    "قسمت پنجم\n",
    "</font>\n",
    "</h2>\n",
    "\n",
    "<p dir=rtl style=\"direction: rtl;text-align: right;line-height:200%;font-family:vazir;font-size:medium\">\n",
    "<font face=\"vazir\" size=3>\n",
    "    می‌دانیم که شماره چهارراه، یک متغیر گسسته اسمی است. بنابراین بهتر است آن را به شکل <code>one-hot-encoded</code> به دیتافریم <code>df</code> اضافه کنیم.\n",
    "    <br>\n",
    "    بنابراین با استفاده از ستون <code>Junction</code> چهار ستون با پیشوند <code>Junc</code> بسازید و آن‌ها را به دیتافریم <code>df</code> اضافه کنید.\n",
    "    برای درک بهتر، تصور کنید این شش سطر زیر، بخشی از دیتافریم <code>df</code> باشند.\n",
    "</font>\n",
    "</p>\n",
    "\n",
    "\n",
    "<div dir=rtl style=\"direction: rtl;text-align: right;line-height:200%;font-family:vazir;font-size:medium\">\n",
    "<font face=\"vazir\" size=3>\n",
    "    \n",
    "|Junction|\n",
    "|-------|\n",
    "|1|\n",
    "|2|\n",
    "|3|\n",
    "|4|\n",
    "|2|\n",
    "|1|\n",
    "    \n",
    "</font>\n",
    "</div>\n",
    "\n",
    "\n",
    "<p dir=rtl style=\"direction: rtl;text-align: right;line-height:200%;font-family:vazir;font-size:medium\">\n",
    "<font face=\"vazir\" size=3>\n",
    "    انتظار داریم پس از انجام <code>one-hot-encode</code> چهار ستون مانند جدول زیر به ازای این ۶ سطر به دیتافریم <code>df</code> اضافه شوند.\n",
    "</font>\n",
    "</p>\n",
    "\n",
    "\n",
    "\n",
    "<div style=\"line-height:200%;font-family:vazir;font-size:medium\">\n",
    "<font face=\"vazir\" size=3>\n",
    "    \n",
    "|Junc_1|Junc_2|Junc_3|Junc_4|\n",
    "|-------|-------|-------|-------|\n",
    "|1|0|0|0|\n",
    "|0|1|0|0|\n",
    "|0|0|1|0|\n",
    "|0|0|0|1|\n",
    "|0|1|0|0|\n",
    "|1|0|0|0|\n",
    "    \n",
    "</font>\n",
    "</div>"
   ]
  },
  {
   "cell_type": "code",
   "execution_count": 3,
   "id": "cdcce5c3-b6fb-40e4-9ee0-9a8454af5004",
   "metadata": {},
   "outputs": [
    {
     "ename": "ModuleNotFoundError",
     "evalue": "No module named 'sklearn.select_feature'",
     "output_type": "error",
     "traceback": [
      "\u001b[1;31m---------------------------------------------------------------------------\u001b[0m",
      "\u001b[1;31mModuleNotFoundError\u001b[0m                       Traceback (most recent call last)",
      "Cell \u001b[1;32mIn[3], line 1\u001b[0m\n\u001b[1;32m----> 1\u001b[0m \u001b[38;5;28;01mfrom\u001b[39;00m \u001b[38;5;21;01msklearn\u001b[39;00m\u001b[38;5;21;01m.\u001b[39;00m\u001b[38;5;21;01mselect_feature\u001b[39;00m \u001b[38;5;28;01mimport\u001b[39;00m OneHotEncoder\n",
      "\u001b[1;31mModuleNotFoundError\u001b[0m: No module named 'sklearn.select_feature'"
     ]
    }
   ],
   "source": [
    "from sklearn.select_feature import OneHotEncoder"
   ]
  },
  {
   "cell_type": "code",
   "execution_count": null,
   "id": "5f564efe",
   "metadata": {},
   "outputs": [],
   "source": [
    "#TODO: one-hot-encode the `Jucntion` column and add 4 columns to `df` with `Junc` prefix \n",
    "df = df.join(pd.get_dummies(df.Junction, prefix='Junc'))\n",
    "df"
   ]
  },
  {
   "cell_type": "markdown",
   "id": "0a77e7cd",
   "metadata": {},
   "source": [
    "<h2 align=right style=\"line-height:200%;font-family:vazir;color:#0099cc\">\n",
    "<font face=\"vazir\" color=\"#0099cc\">\n",
    "<b>سلول جواب‌ساز</b>\n",
    "</font>\n",
    "</h2>\n"
   ]
  },
  {
   "cell_type": "code",
   "execution_count": null,
   "id": "2c3bcd76",
   "metadata": {},
   "outputs": [],
   "source": [
    "import zipfile\n",
    "import joblib\n",
    "\n",
    "synthesized_cols = ['JalaliDateTime', 'hour', 'IsHoliday', 'IsCold', 'Junc_1', 'Junc_2', 'Junc_3', 'Junc_4']\n",
    "\n",
    "submision_df = df[synthesized_cols]\n",
    "\n",
    "submision_df.to_csv('df.csv', index=False)\n",
    "\n",
    "\n",
    "def compress(file_names):\n",
    "    print(\"File Paths:\")\n",
    "    print(file_names)\n",
    "    # Select the compression mode ZIP_DEFLATED for compression\n",
    "    # or zipfile.ZIP_STORED to just store the file\n",
    "    compression = zipfile.ZIP_DEFLATED\n",
    "    # create the zip file first parameter path/name, second mode\n",
    "    with zipfile.ZipFile(\"result.zip\", mode=\"w\") as zf:\n",
    "        for file_name in file_names:\n",
    "            # Add file to the zip file\n",
    "            # first parameter file to zip, second filename in zip\n",
    "            zf.write('./' + file_name, file_name, compress_type=compression)\n",
    "\n",
    "\n",
    "file_names = [\"df.csv\", \"traffic_shahri.ipynb\"]\n",
    "compress(file_names)"
   ]
  },
  {
   "cell_type": "markdown",
   "id": "d321143b",
   "metadata": {},
   "source": [
    "\n",
    "<p dir=rtl style=\"direction: rtl;text-align: right;line-height:200%;font-family:vazir;font-size:medium\">\n",
    "<font face=\"vazir\" size=3>\n",
    "    پس از اجرای سلول بالا، می‌توانید برای کسب نمره، فایل results.zip را برای سامانه داوری ارسال کنید.\n",
    "    <br>\n",
    "    اگر تمایل به مشاهده تاثیر پیش‌پردازش‌های انجام‌شده دارید، سلول‌های زیر را اجرا کنید.\n",
    "</font>\n",
    "</p>\n",
    "\n",
    "<h2 align=right style=\"line-height:200%;font-family:vazir;color:#0099cc\">\n",
    "<font face=\"vazir\" color=\"#0099cc\">\n",
    "مدلسازی\n",
    "</font>\n",
    "</h2>\n",
    "\n",
    "<p dir=rtl style=\"direction: rtl;text-align: right;line-height:200%;font-family:vazir;font-size:medium\">\n",
    "<font face=\"vazir\" size=3>\n",
    "    حال که سوالات را حل کردید، پیشنهاد می‌کنیم مجددا روی مجموعه‌داده جدیدی که به دست آوردید، مدلسازی کنید تا تاثیر پیش‌پردازش را در نتیجه نهایی مشاهده کنید.\n",
    "</font>\n",
    "</p>\n",
    "\n",
    "\n",
    "<p dir=rtl style=\"direction: rtl;text-align: right;line-height:200%;font-family:vazir;font-size:medium\">\n",
    "<font face=\"vazir\" size=3>\n",
    "    برای انجام مدلسازی دوباره، فقط کافیست سلول زیر را اجرا کنید.\n",
    "    <br>\n",
    "    اگر اجرای این سلول با شکست مواجه شد، می‌تواند به یکی از دلایل زیر باشد.\n",
    "</font>\n",
    "</p>\n",
    "\n",
    "\n",
    "<div dir=rtl style=\"direction: rtl;text-align: right;line-height:200%;font-family:vazir;font-size:medium\">\n",
    "<font face=\"vazir\" size=3>\n",
    "    <ul>\n",
    "        <li>\n",
    "            کتابخانه Fast Auto ML را نصب نکرده باشید.\n",
    "        </li>\n",
    "        <li>\n",
    "           پیش‌پردازش‌های توضیح داده‌شده را اشتباه انجام داده باشید.\n",
    "        </li>\n",
    "    </ul>\n",
    "</font>\n",
    "</div>"
   ]
  },
  {
   "cell_type": "code",
   "execution_count": null,
   "id": "480f55a0",
   "metadata": {},
   "outputs": [],
   "source": [
    "model = AutoML(task='regression', time_budget=60, verbose=0)\n",
    "useful_cols = ['DateTime', 'hour', 'IsHoliday', 'IsCold', 'Junc_1', 'Junc_2', 'Junc_3', 'Junc_4', 'Car']\n",
    "train = df[useful_cols].loc[:48000]\n",
    "test = df[useful_cols].loc[48000:]\n",
    "model.fit(train.drop('Car', axis=1), np.log(train.Car))\n",
    "y_pred = np.exp(model.predict(test.drop('Car', axis=1)))\n",
    "r2score = round(r2_score(test.Car, y_pred),2) * 100 \n",
    "print(f'performance of model is {r2score}%')"
   ]
  }
 ],
 "metadata": {
  "kernelspec": {
   "display_name": "Python 3 (ipykernel)",
   "language": "python",
   "name": "python3"
  },
  "language_info": {
   "codemirror_mode": {
    "name": "ipython",
    "version": 3
   },
   "file_extension": ".py",
   "mimetype": "text/x-python",
   "name": "python",
   "nbconvert_exporter": "python",
   "pygments_lexer": "ipython3",
   "version": "3.10.6"
  }
 },
 "nbformat": 4,
 "nbformat_minor": 5
}
